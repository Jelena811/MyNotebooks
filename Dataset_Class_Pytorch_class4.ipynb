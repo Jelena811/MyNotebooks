{
 "cells": [
  {
   "cell_type": "code",
   "execution_count": 9,
   "metadata": {},
   "outputs": [],
   "source": [
    "import torch\n",
    "import cv2"
   ]
  },
  {
   "cell_type": "code",
   "execution_count": 8,
   "metadata": {},
   "outputs": [],
   "source": [
    "#classification/regression problems\n",
    "class CustomDataset:\n",
    "    def __init__(self,data, targets,tokenizer):\n",
    "        self.data = data\n",
    "        self.targets = targets\n",
    "        self.tokenizer = tokenizer\n",
    "        \n",
    "    def __len__(self):\n",
    "        return len(self.data)\n",
    "    \n",
    "    def __getitem(self,idx):\n",
    "        \n",
    "        text = self.data[idx]\n",
    "        target = self.targets[idx]\n",
    "        input_ids = tokenizer(text)\n",
    "        return {  \"text\":torch.tensor(input_ids,dtype=torch.long),\n",
    "            \"target\":torch.tensor(target)}\n",
    "          "
   ]
  },
  {
   "cell_type": "code",
   "execution_count": 4,
   "metadata": {},
   "outputs": [
    {
     "data": {
      "text/plain": [
       "{}"
      ]
     },
     "execution_count": 4,
     "metadata": {},
     "output_type": "execute_result"
    }
   ],
   "source": [
    "class CustomImageDataset:\n",
    "     def __init__(self,image_paths, targets,augmentations = None):\n",
    "        self.image_paths = image_paths\n",
    "        self.targets = targets\n",
    "        self.augmentations = augmentations\n",
    "    def __len__(self):\n",
    "        return len(self.image_paths)  \n",
    "     \n",
    "    def __getitem(self,idx):\n",
    "        target = self.targets[idx]\n",
    "        image = cv2.imgread(self.image_paths[idx])\n",
    "        image = cv2.cvtColor(image,cv2.COLOR_BGR2RGB)\n",
    "        if self.augmentation is not None:\n",
    "            augmented = self.augmentations(image =image)"
   ]
  },
  {
   "cell_type": "code",
   "execution_count": null,
   "metadata": {},
   "outputs": [],
   "source": []
  }
 ],
 "metadata": {
  "kernelspec": {
   "display_name": "Python 3",
   "language": "python",
   "name": "python3"
  },
  "language_info": {
   "codemirror_mode": {
    "name": "ipython",
    "version": 3
   },
   "file_extension": ".py",
   "mimetype": "text/x-python",
   "name": "python",
   "nbconvert_exporter": "python",
   "pygments_lexer": "ipython3",
   "version": "3.8.3"
  }
 },
 "nbformat": 4,
 "nbformat_minor": 4
}
