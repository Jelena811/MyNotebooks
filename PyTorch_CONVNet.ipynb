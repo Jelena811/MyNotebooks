{
 "cells": [
  {
   "cell_type": "code",
   "execution_count": 17,
   "metadata": {},
   "outputs": [
    {
     "name": "stdout",
     "output_type": "stream",
     "text": [
      "Files already downloaded and verified\n",
      "Files already downloaded and verified\n"
     ]
    }
   ],
   "source": [
    "import torch\n",
    "import torch.nn as nn\n",
    "import torch.nn.functional as F\n",
    "import torchvision #for datasets\n",
    "import torchvision.transforms as transforms\n",
    "import matplotlib.pyplot as plt\n",
    "\n",
    "#device\n",
    "device = torch.device('cuda' if torch.cuda.is_available() else 'cpu')\n",
    "\n",
    "#hyper params\n",
    "num_epochs = 4\n",
    "batch_size = 16\n",
    "learning_rate = 0.001\n",
    "\n",
    "# transform in general do this\n",
    "\"\"\"torchvision.transforms.Normalize(\n",
    "      [meanOfChannel1, meanOfChannel2, meanOfChannel3] \n",
    "    , [stdOfChannel1, stdOfChannel2, stdOfChannel3] \n",
    ")\"\"\"\n",
    "transform = transforms.Compose([\n",
    "                    transforms.ToTensor(),\n",
    "                    transforms.Normalize((0.5,0.5,0.5),(0.5,0.5,0.5))\n",
    "])\n",
    "\n",
    "# CIFAR 10\n",
    "train_dataset = torchvision.datasets.CIFAR10(root='./data',\n",
    "                                          train=True,\n",
    "                                         transform=transform,\n",
    "                                         download=True)\n",
    "\n",
    "test_dataset = torchvision.datasets.CIFAR10(root='./data',\n",
    "                                          train=False,\n",
    "                                         transform=transform,\n",
    "                                        download=True)\n",
    "\n",
    "train_loader = torch.utils.data.DataLoader(dataset=train_dataset,\n",
    "                                          batch_size = batch_size,\n",
    "                                          shuffle=True) \n",
    "test_loader = torch.utils.data.DataLoader(dataset=test_dataset,\n",
    "                                          batch_size = batch_size,\n",
    "                                          shuffle=False)\n",
    "\n",
    "classes = ('plane','car','bird','cat','deer','dog','frog','horse','ship','truck')\n"
   ]
  },
  {
   "cell_type": "code",
   "execution_count": 18,
   "metadata": {},
   "outputs": [],
   "source": [
    "class ConvNet(nn.Module):\n",
    "    \n",
    "    # Here we describe layer we will use\n",
    "    # First we must have had defined our architecture\n",
    "    # Architecture will be conv1->pool->conv2->pool->fc1->fc2->fc3\n",
    "    def __init__(self):\n",
    "        # DONT forget this:\n",
    "        super(ConvNet,self).__init__()\n",
    "        # Calculate conv output: (input - filter +2Padding)/Stride +1\n",
    "        # 2,2 Pool reduces size by 2\n",
    "        \n",
    "        self.conv1 = nn.Conv2d(3,6,5) # 3 input channels, 6 output channels, 5x5 conv2dkernel\n",
    "        self.pool = nn.MaxPool2d(2,2) # kernel size is 2, stride is 2\n",
    "        self.conv2 = nn.Conv2d(6,16,5) # input channel size must be like previous output kernel size\n",
    "\n",
    "        self.fc1 = nn.Linear(16*5*5,120) # must be input calculated from above formulas\n",
    "        self.fc2 = nn.Linear(120,84)\n",
    "        self.fc3 = nn.Linear(84,10) # 10 output classes\n",
    "        \n",
    "    def forward(self,x):\n",
    "        \n",
    "        x = self.pool(F.relu(self.conv1(x)))# activations dont change size\n",
    "        x = self.pool(F.relu(self.conv2(x)))\n",
    "        \n",
    "        # for out fully connected layer we have to flatten input\n",
    "        x = x.view(-1,16*5*5) # -1 so torch can define that size for us\n",
    "        x = F.relu(self.fc1(x))\n",
    "        x = F.relu(self.fc2(x))\n",
    "        x = self.fc3(x)\n",
    "        return x\n",
    "        #no Softmax bc it's already included in CELoss\n",
    "\n",
    "model = ConvNet().to(device)\n",
    "criterion = nn.CrossEntropyLoss() # multi class classification\n",
    "optimizer = torch.optim.Adam(model.parameters(),lr=learning_rate)\n",
    "        "
   ]
  },
  {
   "cell_type": "code",
   "execution_count": 22,
   "metadata": {},
   "outputs": [
    {
     "name": "stdout",
     "output_type": "stream",
     "text": [
      "epoch 1 / 4, step 2000/3125, loss = 1.2502\n",
      "epoch 2 / 4, step 2000/3125, loss = 1.4741\n",
      "epoch 3 / 4, step 2000/3125, loss = 1.3235\n",
      "epoch 4 / 4, step 2000/3125, loss = 0.8851\n",
      "Finished training\n"
     ]
    }
   ],
   "source": [
    "n_total_steps = len(train_loader) #equals the number of batches\n",
    "\n",
    "for epoch in range(num_epochs):\n",
    "  for i, (images,labels) in enumerate(train_loader): #gives us data and index\n",
    "    # we have to reshape this samples of images \n",
    "    # to be 16, 784\n",
    "    images = images.to(device)\n",
    "    labels = labels.to(device)\n",
    "    \n",
    "    # forward pass\n",
    "    outputs = model(images)\n",
    "    loss = criterion(outputs, labels)\n",
    "\n",
    "    # backward pass\n",
    "    optimizer.zero_grad()\n",
    "    loss.backward()\n",
    "    optimizer.step()\n",
    "\n",
    "    if(i+1)% 2000 == 0:\n",
    "      print(f'epoch {epoch+1} / {num_epochs}, step {i+1}/{n_total_steps}, loss = {loss.item():.4f}')\n",
    "print('Finished training')"
   ]
  },
  {
   "cell_type": "code",
   "execution_count": 23,
   "metadata": {},
   "outputs": [
    {
     "name": "stdout",
     "output_type": "stream",
     "text": [
      "Accuracy of conv net = 61.81 %\n",
      "Accuracy of plane = 61.4 %\n",
      "Accuracy of car = 81.2 %\n",
      "Accuracy of bird = 40.9 %\n",
      "Accuracy of cat = 36.4 %\n",
      "Accuracy of deer = 59.6 %\n",
      "Accuracy of dog = 51.8 %\n",
      "Accuracy of frog = 77.0 %\n",
      "Accuracy of horse = 75.2 %\n",
      "Accuracy of ship = 78.2 %\n",
      "Accuracy of truck = 56.4 %\n"
     ]
    }
   ],
   "source": [
    "#testing not validating\n",
    "with torch.no_grad():\n",
    "    \n",
    "    n_correct = 0\n",
    "    n_samples = 0\n",
    "    n_class_correct = [0 for i in range(10)]\n",
    "    n_class_samples = [0 for i in range(10)]\n",
    "    \n",
    "    for images,labels in test_loader:\n",
    "        \n",
    "        images = images.to(device)\n",
    "        labels = labels.to(device)\n",
    "        outputs = model(images)\n",
    "\n",
    "        # _ is class label\n",
    "        _, predictions = torch.max(outputs,1) #returns value and index and we are interested in index or predictions\n",
    "        n_samples += labels.size(0) #nuber of samples in that batch\n",
    "        n_correct += (predictions == labels).sum().item()\n",
    "\n",
    "        for i in range (batch_size):\n",
    "            \n",
    "            label = labels[i]\n",
    "            pred = predictions[i]\n",
    "            if(label == pred):\n",
    "                n_class_correct[label] +=1\n",
    "            n_class_samples[label] +=1\n",
    "            \n",
    "    acc = 100.0 * n_correct / n_samples\n",
    "    print(f'Accuracy of conv net = {acc} %')\n",
    "    \n",
    "    for i in range(10):\n",
    "        acc = 100.0 * n_class_correct[i] / n_class_samples[i]\n",
    "        print(f'Accuracy of {classes[i]} = {acc} %')"
   ]
  }
 ],
 "metadata": {
  "kernelspec": {
   "display_name": "Python 3",
   "language": "python",
   "name": "python3"
  },
  "language_info": {
   "codemirror_mode": {
    "name": "ipython",
    "version": 3
   },
   "file_extension": ".py",
   "mimetype": "text/x-python",
   "name": "python",
   "nbconvert_exporter": "python",
   "pygments_lexer": "ipython3",
   "version": "3.8.3"
  }
 },
 "nbformat": 4,
 "nbformat_minor": 4
}
