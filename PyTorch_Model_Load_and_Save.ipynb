{
 "cells": [
  {
   "cell_type": "code",
   "execution_count": null,
   "metadata": {},
   "outputs": [],
   "source": [
    "import torch\n",
    "import torch.nn as nn\n",
    "\n",
    "class Model(nn.Module):\n",
    "    def __init__(self,n_input_feats):\n",
    "        super(Model,self).__init__()\n",
    "        self.linear = nn.Linear(n_input_feats,1)\n",
    "    def forward(self,x):\n",
    "        Y_pred = torch.sigmoid(self.linear(x))\n",
    "        return y_pred"
   ]
  },
  {
   "cell_type": "code",
   "execution_count": null,
   "metadata": {},
   "outputs": [],
   "source": [
    "#LAZY OPTION #######################\n",
    "#model = Model(n_input_feats = 6)\n",
    "FILE = \"model.pth\"\n",
    "#After completing model\n",
    "#torch.save(model,FILE)\n",
    "\n",
    "#model class must be defined somewhere\n",
    "model = torch.load(FILE)\n",
    "model.eval()\n",
    "\n",
    "for param in model.parameters():\n",
    "    print(param)"
   ]
  },
  {
   "cell_type": "code",
   "execution_count": null,
   "metadata": {},
   "outputs": [],
   "source": [
    "# Second approach recommended\n",
    "# if we just want to save our model and use it later for making predictions or inference\n",
    "# Only save parameters\n",
    "model = Model(n_input_feats = 6)\n",
    "\n",
    "print('Original model')\n",
    "print(model.state_dict())\n",
    "\n",
    "for param in model.parameters():\n",
    "    print(param)\n",
    "\n",
    "FILE = \"model.pth\"\n",
    "# TRAIN MODEL ####################\n",
    "\n",
    "lr = 0.01\n",
    "optimizer = torch.optim.Adam(model.parameters(),lr = lr)\n",
    "print('\\nOptimizer state')\n",
    "print(optimizer.state_dict())\n",
    "\n",
    "checkpoint = {\n",
    "    \"epoch\":90,\n",
    "    \"model_state\":model.state_dict(),\n",
    "    \"optim_state\": optimizer.state_dict()\n",
    "}\n",
    "#we can also save some checkpoint\n",
    "torch.save(checkpoint,\"checkpoint.pth\")\n",
    "\n",
    "#load checkpoint\n",
    "loaded_checkpoint = torch.load(\"checkpoint.pth\")\n",
    "\n",
    "#we can now get epoch right away!\n",
    "epoch = loaded_checkpoint[\"epoch\"]\n",
    "print(f'\\nLoaded epoch: {epoch}')\n",
    "\n",
    "# Instantiate model and optim\n",
    "model = Model(n_input_feats=6)\n",
    "optimizer = torch.optim.Adam(model.parameters(),lr = 0)\n",
    "\n",
    "# Load previous state for model and optim\n",
    "model.load_state_dict(checkpoint[\"model_state\"])\n",
    "optimizer.load_state_dict(checkpoint[\"optim_state\"])\n",
    "\n",
    "#Continue training\n",
    "#...\n",
    "# This was how to load saved checkpoint in training process\n"
   ]
  },
  {
   "cell_type": "code",
   "execution_count": null,
   "metadata": {},
   "outputs": [],
   "source": [
    "# Or save entire state after training\n",
    "torch.save(model.state_dict(),FILE)\n",
    "\n",
    "print('\\nLoaded model')\n",
    "\n",
    "# Model must be created again with parameters\n",
    "loaded_model = Model(n_input_feats=6) # first create model object\n",
    "loaded_model.load_state_dict(torch.load(FILE))\n",
    "loaded_model.eval()\n",
    "\n",
    "for param in loaded_model.parameters():\n",
    "    print(param)"
   ]
  },
  {
   "cell_type": "code",
   "execution_count": null,
   "metadata": {},
   "outputs": [],
   "source": [
    "import torch\n",
    "import torch.nn as nn\n",
    "\n",
    "# If we want to Save on GPU, Load on CPU\n",
    "device = torch.device('cuda')\n",
    "model.to(device)\n",
    "torch.save(model.state_dict(),PATH)\n",
    "\n",
    "device = torch.device('cpu')\n",
    "model - Model(*args,**kwargs)\n",
    "model.load_state_dict(torch.load(PATH,map=loaction=device))"
   ]
  },
  {
   "cell_type": "code",
   "execution_count": null,
   "metadata": {},
   "outputs": [],
   "source": [
    "import torch\n",
    "import torch.nn as nn\n",
    "\n",
    "# If we want to Save on CPU, Load on GPU\n",
    "torch.save(model.state_dict(),PATH)\n",
    "\n",
    "device = torch.device('cuda')\n",
    "model - Model(*args,**kwargs)\n",
    "model.load_state_dict(torch.load(PATH,map=loaction=\"cuda:0\"))\n",
    "model.to(device)"
   ]
  }
 ],
 "metadata": {
  "kernelspec": {
   "display_name": "Python 3",
   "language": "python",
   "name": "python3"
  },
  "language_info": {
   "codemirror_mode": {
    "name": "ipython",
    "version": 3
   },
   "file_extension": ".py",
   "mimetype": "text/x-python",
   "name": "python",
   "nbconvert_exporter": "python",
   "pygments_lexer": "ipython3",
   "version": "3.8.3"
  }
 },
 "nbformat": 4,
 "nbformat_minor": 4
}
